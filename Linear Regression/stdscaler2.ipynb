{
 "cells": [
  {
   "cell_type": "code",
   "execution_count": 67,
   "id": "99e760ed",
   "metadata": {},
   "outputs": [],
   "source": [
    "import pandas as pd\n",
    "from sklearn.model_selection import train_test_split\n",
    "from sklearn.linear_model import LinearRegression\n",
    "from sklearn.preprocessing import PolynomialFeatures,StandardScaler\n",
    "import matplotlib.pyplot as plt\n",
    "\n",
    "\n",
    "df = pd.read_csv('standardscaler_.csv')"
   ]
  },
  {
   "cell_type": "code",
   "execution_count": 68,
   "id": "a0174152",
   "metadata": {},
   "outputs": [
    {
     "data": {
      "text/html": [
       "<div>\n",
       "<style scoped>\n",
       "    .dataframe tbody tr th:only-of-type {\n",
       "        vertical-align: middle;\n",
       "    }\n",
       "\n",
       "    .dataframe tbody tr th {\n",
       "        vertical-align: top;\n",
       "    }\n",
       "\n",
       "    .dataframe thead th {\n",
       "        text-align: right;\n",
       "    }\n",
       "</style>\n",
       "<table border=\"1\" class=\"dataframe\">\n",
       "  <thead>\n",
       "    <tr style=\"text-align: right;\">\n",
       "      <th></th>\n",
       "      <th>Experience_Years</th>\n",
       "      <th>Age</th>\n",
       "      <th>Education_Level</th>\n",
       "      <th>Hours_Per_Week</th>\n",
       "      <th>Salary</th>\n",
       "    </tr>\n",
       "  </thead>\n",
       "  <tbody>\n",
       "    <tr>\n",
       "      <th>0</th>\n",
       "      <td>5.99</td>\n",
       "      <td>34.63</td>\n",
       "      <td>3</td>\n",
       "      <td>41.12</td>\n",
       "      <td>87638.54</td>\n",
       "    </tr>\n",
       "    <tr>\n",
       "      <th>1</th>\n",
       "      <td>4.72</td>\n",
       "      <td>39.55</td>\n",
       "      <td>4</td>\n",
       "      <td>46.82</td>\n",
       "      <td>84956.80</td>\n",
       "    </tr>\n",
       "    <tr>\n",
       "      <th>2</th>\n",
       "      <td>6.30</td>\n",
       "      <td>23.01</td>\n",
       "      <td>1</td>\n",
       "      <td>40.63</td>\n",
       "      <td>73501.52</td>\n",
       "    </tr>\n",
       "    <tr>\n",
       "      <th>3</th>\n",
       "      <td>8.05</td>\n",
       "      <td>32.81</td>\n",
       "      <td>4</td>\n",
       "      <td>37.85</td>\n",
       "      <td>100707.27</td>\n",
       "    </tr>\n",
       "    <tr>\n",
       "      <th>4</th>\n",
       "      <td>4.53</td>\n",
       "      <td>26.75</td>\n",
       "      <td>3</td>\n",
       "      <td>40.61</td>\n",
       "      <td>80094.46</td>\n",
       "    </tr>\n",
       "  </tbody>\n",
       "</table>\n",
       "</div>"
      ],
      "text/plain": [
       "   Experience_Years    Age  Education_Level  Hours_Per_Week     Salary\n",
       "0              5.99  34.63                3           41.12   87638.54\n",
       "1              4.72  39.55                4           46.82   84956.80\n",
       "2              6.30  23.01                1           40.63   73501.52\n",
       "3              8.05  32.81                4           37.85  100707.27\n",
       "4              4.53  26.75                3           40.61   80094.46"
      ]
     },
     "execution_count": 68,
     "metadata": {},
     "output_type": "execute_result"
    }
   ],
   "source": [
    "df.head()"
   ]
  },
  {
   "cell_type": "code",
   "execution_count": 69,
   "id": "a227fcb9",
   "metadata": {},
   "outputs": [],
   "source": [
    "x = df.drop('Experience_Years',axis=1)\n",
    "y = df['Experience_Years']"
   ]
  },
  {
   "cell_type": "code",
   "execution_count": 70,
   "id": "1c9066dc",
   "metadata": {},
   "outputs": [],
   "source": [
    "xtrain,xtest,ytrain,ytest = train_test_split(x,y,train_size=0.8,random_state=42)"
   ]
  },
  {
   "cell_type": "code",
   "execution_count": 71,
   "id": "568f8868",
   "metadata": {},
   "outputs": [],
   "source": [
    "poly = PolynomialFeatures(degree=2)\n",
    "xpoly = poly.fit_transform(xtrain)"
   ]
  },
  {
   "cell_type": "code",
   "execution_count": 72,
   "id": "a6e397e9",
   "metadata": {},
   "outputs": [],
   "source": [
    "model = LinearRegression()\n",
    "model.fit(xpoly,ytrain)\n",
    "xtestpy = poly.transform(xtest)"
   ]
  },
  {
   "cell_type": "code",
   "execution_count": 73,
   "id": "fec29ec8",
   "metadata": {},
   "outputs": [
    {
     "data": {
      "text/plain": [
       "0.29376378607180464"
      ]
     },
     "execution_count": 73,
     "metadata": {},
     "output_type": "execute_result"
    }
   ],
   "source": [
    "model.score(xtestpy,ytest)"
   ]
  },
  {
   "cell_type": "markdown",
   "id": "edfe619b",
   "metadata": {},
   "source": [
    "- With Standard Scaler"
   ]
  },
  {
   "cell_type": "code",
   "execution_count": 74,
   "id": "a424e336",
   "metadata": {},
   "outputs": [],
   "source": [
    "scaler = StandardScaler()\n",
    "xtrain_scaled = scaler.fit_transform(xtrain)\n",
    "xtest_scaled = scaler.transform(xtest)"
   ]
  },
  {
   "cell_type": "code",
   "execution_count": 75,
   "id": "b10d6ffd",
   "metadata": {},
   "outputs": [],
   "source": [
    "poly = PolynomialFeatures(degree=2)\n",
    "xpoly = poly.fit_transform(xtrain_scaled)"
   ]
  },
  {
   "cell_type": "code",
   "execution_count": 76,
   "id": "ef4cc42a",
   "metadata": {},
   "outputs": [],
   "source": [
    "model = LinearRegression()"
   ]
  },
  {
   "cell_type": "code",
   "execution_count": 77,
   "id": "115799ae",
   "metadata": {},
   "outputs": [],
   "source": [
    "model.fit(xpoly,ytrain)\n",
    "xtestpoly = poly.transform(xtest_scaled)"
   ]
  },
  {
   "cell_type": "code",
   "execution_count": 78,
   "id": "5a6dce99",
   "metadata": {},
   "outputs": [
    {
     "data": {
      "text/plain": [
       "0.29376378514660406"
      ]
     },
     "execution_count": 78,
     "metadata": {},
     "output_type": "execute_result"
    }
   ],
   "source": [
    "model.score(xtestpoly,ytest)"
   ]
  },
  {
   "cell_type": "markdown",
   "id": "763ae8aa",
   "metadata": {},
   "source": [
    "- Not performing well even with polynomial features because the data plot is too scattered. Here neither Linear nor Polynomial will work, we will have to go to some Advanced Regression techniques."
   ]
  },
  {
   "cell_type": "code",
   "execution_count": 79,
   "id": "fbd43d2c",
   "metadata": {},
   "outputs": [
    {
     "data": {
      "text/plain": [
       "<matplotlib.collections.PathCollection at 0x27376d13d90>"
      ]
     },
     "execution_count": 79,
     "metadata": {},
     "output_type": "execute_result"
    },
    {
     "data": {
      "image/png": "[encoded data removed]",
      "text/plain": [
       "<Figure size 640x480 with 1 Axes>"
      ]
     },
     "metadata": {},
     "output_type": "display_data"
    }
   ],
   "source": [
    "ypred = model.predict(xtestpoly)\n",
    "plt.scatter(xtestpoly[:,1],ytest)\n",
    "plt.scatter(xtestpoly[:,1],ypred)"
   ]
  },
  {
   "cell_type": "code",
   "execution_count": null,
   "id": "6cd4c736",
   "metadata": {},
   "outputs": [],
   "source": []
  }
 ],
 "metadata": {
  "kernelspec": {
   "display_name": "Python 3",
   "language": "python",
   "name": "python3"
  },
  "language_info": {
   "codemirror_mode": {
    "name": "ipython",
    "version": 3
   },
   "file_extension": ".py",
   "mimetype": "text/x-python",
   "name": "python",
   "nbconvert_exporter": "python",
   "pygments_lexer": "ipython3",
   "version": "3.13.3"
  }
 },
 "nbformat": 4,
 "nbformat_minor": 5
}

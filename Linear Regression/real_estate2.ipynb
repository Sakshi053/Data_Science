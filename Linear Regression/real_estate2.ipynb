{
 "cells": [
  {
   "cell_type": "code",
   "execution_count": 77,
   "id": "d1b67161",
   "metadata": {},
   "outputs": [],
   "source": [
    "import pandas as pd\n",
    "import numpy as np\n",
    "import matplotlib.pyplot as plt\n",
    "from sklearn.model_selection import train_test_split\n",
    "from sklearn.linear_model import LinearRegression\n",
    "from sklearn.preprocessing import PolynomialFeatures\n",
    "from sklearn.metrics import r2_score,mean_absolute_error,mean_squared_error"
   ]
  },
  {
   "cell_type": "code",
   "execution_count": 78,
   "id": "ba5cd14f",
   "metadata": {},
   "outputs": [
    {
     "data": {
      "text/plain": [
       "Index(['No', 'X1 transaction date', 'X2 house age',\n",
       "       'X3 distance to the nearest MRT station',\n",
       "       'X4 number of convenience stores', 'X5 latitude', 'X6 longitude',\n",
       "       'Y house price of unit area'],\n",
       "      dtype='object')"
      ]
     },
     "execution_count": 78,
     "metadata": {},
     "output_type": "execute_result"
    }
   ],
   "source": [
    "df=pd.read_csv(\"Real estate.csv\")\n",
    "df.columns"
   ]
  },
  {
   "cell_type": "code",
   "execution_count": 79,
   "id": "d3764567",
   "metadata": {},
   "outputs": [],
   "source": [
    "x = df[['X2 house age','X3 distance to the nearest MRT station','X4 number of convenience stores', 'X5 latitude', 'X6 longitude']]\n",
    "y = df['Y house price of unit area']"
   ]
  },
  {
   "cell_type": "code",
   "execution_count": 80,
   "id": "02cd5dd7",
   "metadata": {},
   "outputs": [],
   "source": [
    "xtrain,xtest,ytrain,ytest = train_test_split(x,y,train_size=0.8, random_state=42)"
   ]
  },
  {
   "cell_type": "code",
   "execution_count": 68,
   "id": "4c7e480a",
   "metadata": {},
   "outputs": [
    {
     "data": {
      "text/plain": [
       "[     X2 house age  X3 distance to the nearest MRT station  \\\n",
       " 192          43.8                                57.58945   \n",
       " 234           8.0                              2216.61200   \n",
       " 5             7.1                              2175.03000   \n",
       " 45           36.6                               488.81930   \n",
       " 245           7.5                               639.61980   \n",
       " ..            ...                                     ...   \n",
       " 71           35.5                               640.73910   \n",
       " 106          17.2                               189.51810   \n",
       " 270          10.8                               252.58220   \n",
       " 348           4.6                               259.66070   \n",
       " 102           1.1                               193.58450   \n",
       " \n",
       "      X4 number of convenience stores  X5 latitude  X6 longitude  \n",
       " 192                                7     24.96750     121.54069  \n",
       " 234                                4     24.96007     121.51361  \n",
       " 5                                  3     24.96305     121.51254  \n",
       " 45                                 8     24.97015     121.54494  \n",
       " 245                                5     24.97258     121.54814  \n",
       " ..                               ...          ...           ...  \n",
       " 71                                 3     24.97563     121.53715  \n",
       " 106                                8     24.97707     121.54308  \n",
       " 270                                1     24.97460     121.53046  \n",
       " 348                                6     24.97585     121.54516  \n",
       " 102                                6     24.96571     121.54089  \n",
       " \n",
       " [331 rows x 5 columns],\n",
       "      X2 house age  X3 distance to the nearest MRT station  \\\n",
       " 358           1.1                                193.5845   \n",
       " 350          13.2                                492.2313   \n",
       " 373           0.0                                274.0144   \n",
       " 399          12.7                                170.1289   \n",
       " 369          20.2                               2185.1280   \n",
       " ..            ...                                     ...   \n",
       " 31           29.6                                769.4034   \n",
       " 283          33.5                               1978.6710   \n",
       " 157          16.1                                815.9314   \n",
       " 203          15.6                                289.3248   \n",
       " 208          11.5                               1360.1390   \n",
       " \n",
       "      X4 number of convenience stores  X5 latitude  X6 longitude  \n",
       " 358                                6     24.96571     121.54089  \n",
       " 350                                5     24.96515     121.53737  \n",
       " 373                                1     24.97480     121.53059  \n",
       " 399                                1     24.97371     121.52984  \n",
       " 369                                3     24.96322     121.51237  \n",
       " ..                               ...          ...           ...  \n",
       " 31                                 7     24.98281     121.53408  \n",
       " 283                                2     24.98674     121.51844  \n",
       " 157                                4     24.97886     121.53464  \n",
       " 203                                5     24.98203     121.54348  \n",
       " 208                                1     24.95204     121.54842  \n",
       " \n",
       " [83 rows x 5 columns],\n",
       " 192     42.7\n",
       " 234     23.9\n",
       " 5       32.1\n",
       " 45      38.3\n",
       " 245     40.8\n",
       "        ...  \n",
       " 71      40.8\n",
       " 106     47.1\n",
       " 270    117.5\n",
       " 348     53.7\n",
       " 102     54.4\n",
       " Name: Y house price of unit area, Length: 331, dtype: float64,\n",
       " 358    45.1\n",
       " 350    42.3\n",
       " 373    52.2\n",
       " 399    37.3\n",
       " 369    22.8\n",
       "        ... \n",
       " 31     25.0\n",
       " 283    23.5\n",
       " 157    35.6\n",
       " 203    46.1\n",
       " 208    26.2\n",
       " Name: Y house price of unit area, Length: 83, dtype: float64]"
      ]
     },
     "execution_count": 68,
     "metadata": {},
     "output_type": "execute_result"
    }
   ],
   "source": [
    "train_test_split(x,y,test_size=0.2,random_state=42)"
   ]
  },
  {
   "cell_type": "code",
   "execution_count": 69,
   "id": "af709b4f",
   "metadata": {},
   "outputs": [
    {
     "data": {
      "text/plain": [
       "array([[1.00000000e+00, 4.38000000e+01, 5.75894500e+01, ...,\n",
       "        6.23376056e+02, 3.03456718e+03, 1.47721393e+04],\n",
       "       [1.00000000e+00, 8.00000000e+00, 2.21661200e+03, ...,\n",
       "        6.23005094e+02, 3.03298821e+03, 1.47655574e+04],\n",
       "       [1.00000000e+00, 7.10000000e+00, 2.17503000e+03, ...,\n",
       "        6.23153865e+02, 3.03332361e+03, 1.47652974e+04],\n",
       "       ...,\n",
       "       [1.00000000e+00, 1.08000000e+01, 2.52582200e+02, ...,\n",
       "        6.23730645e+02, 3.03517463e+03, 1.47696527e+04],\n",
       "       [1.00000000e+00, 4.60000000e+00, 2.59660700e+02, ...,\n",
       "        6.23793083e+02, 3.03569368e+03, 1.47732259e+04],\n",
       "       [1.00000000e+00, 1.10000000e+00, 1.93584500e+02, ...,\n",
       "        6.23286676e+02, 3.03435461e+03, 1.47721879e+04]], shape=(331, 21))"
      ]
     },
     "execution_count": 69,
     "metadata": {},
     "output_type": "execute_result"
    }
   ],
   "source": [
    "poly = PolynomialFeatures(degree=2)\n",
    "xpoly = poly.fit_transform(xtrain)\n",
    "xpoly"
   ]
  },
  {
   "cell_type": "code",
   "execution_count": 70,
   "id": "b44ffbd4",
   "metadata": {},
   "outputs": [
    {
     "data": {
      "text/plain": [
       "array([[1.00000000e+00, 1.10000000e+00, 1.93584500e+02, ...,\n",
       "        6.23286676e+02, 3.03435461e+03, 1.47721879e+04],\n",
       "       [1.00000000e+00, 1.32000000e+01, 4.92231300e+02, ...,\n",
       "        6.23258715e+02, 3.03419867e+03, 1.47713323e+04],\n",
       "       [1.00000000e+00, 0.00000000e+00, 2.74014400e+02, ...,\n",
       "        6.23740635e+02, 3.03520218e+03, 1.47696843e+04],\n",
       "       ...,\n",
       "       [1.00000000e+00, 1.61000000e+01, 8.15931400e+02, ...,\n",
       "        6.23943447e+02, 3.03579676e+03, 1.47706687e+04],\n",
       "       [1.00000000e+00, 1.56000000e+01, 2.89324800e+02, ...,\n",
       "        6.24101823e+02, 3.03640286e+03, 1.47728175e+04],\n",
       "       [1.00000000e+00, 1.15000000e+01, 1.36013900e+03, ...,\n",
       "        6.22604300e+02, 3.03288104e+03, 1.47740184e+04]], shape=(83, 21))"
      ]
     },
     "execution_count": 70,
     "metadata": {},
     "output_type": "execute_result"
    }
   ],
   "source": [
    "model = LinearRegression()\n",
    "model.fit(xpoly,ytrain)    \n",
    "# model.score(xtest,ytest)\n",
    "xtestpoly = poly.transform(xtest)\n",
    "# model.predict(xtest)\n",
    "xtestpoly"
   ]
  },
  {
   "cell_type": "code",
   "execution_count": 71,
   "id": "a4105cdf",
   "metadata": {},
   "outputs": [
    {
     "data": {
      "text/plain": [
       "array([[1.00000000e+00, 4.38000000e+01, 5.75894500e+01, ...,\n",
       "        6.23376056e+02, 3.03456718e+03, 1.47721393e+04],\n",
       "       [1.00000000e+00, 8.00000000e+00, 2.21661200e+03, ...,\n",
       "        6.23005094e+02, 3.03298821e+03, 1.47655574e+04],\n",
       "       [1.00000000e+00, 7.10000000e+00, 2.17503000e+03, ...,\n",
       "        6.23153865e+02, 3.03332361e+03, 1.47652974e+04],\n",
       "       ...,\n",
       "       [1.00000000e+00, 1.08000000e+01, 2.52582200e+02, ...,\n",
       "        6.23730645e+02, 3.03517463e+03, 1.47696527e+04],\n",
       "       [1.00000000e+00, 4.60000000e+00, 2.59660700e+02, ...,\n",
       "        6.23793083e+02, 3.03569368e+03, 1.47732259e+04],\n",
       "       [1.00000000e+00, 1.10000000e+00, 1.93584500e+02, ...,\n",
       "        6.23286676e+02, 3.03435461e+03, 1.47721879e+04]], shape=(331, 21))"
      ]
     },
     "execution_count": 71,
     "metadata": {},
     "output_type": "execute_result"
    }
   ],
   "source": [
    "xpoly"
   ]
  },
  {
   "cell_type": "code",
   "execution_count": 72,
   "id": "8a3b3170",
   "metadata": {},
   "outputs": [
    {
     "data": {
      "text/plain": [
       "331"
      ]
     },
     "execution_count": 72,
     "metadata": {},
     "output_type": "execute_result"
    }
   ],
   "source": [
    "xpoly.shape[0]"
   ]
  },
  {
   "cell_type": "code",
   "execution_count": 73,
   "id": "50cdf657",
   "metadata": {},
   "outputs": [
    {
     "data": {
      "text/plain": [
       "0.7510041114955954"
      ]
     },
     "execution_count": 73,
     "metadata": {},
     "output_type": "execute_result"
    }
   ],
   "source": [
    "model.score(xtestpoly,ytest)"
   ]
  },
  {
   "cell_type": "code",
   "execution_count": 74,
   "id": "2101e296",
   "metadata": {},
   "outputs": [],
   "source": [
    "d=pd.DataFrame({'X2 house age':[12],'X3 distance to the nearest MRT station':[20],'X4 number of convenience stores':[5],'X5 latitude':[30], 'X6 longitude':[40]})"
   ]
  },
  {
   "cell_type": "code",
   "execution_count": 75,
   "id": "75c336fe",
   "metadata": {},
   "outputs": [],
   "source": [
    "dtest = poly.transform(d)"
   ]
  },
  {
   "cell_type": "code",
   "execution_count": 76,
   "id": "93d63786",
   "metadata": {},
   "outputs": [
    {
     "data": {
      "text/plain": [
       "array([6555785.27063003])"
      ]
     },
     "execution_count": 76,
     "metadata": {},
     "output_type": "execute_result"
    }
   ],
   "source": [
    "model.predict(dtest)"
   ]
  },
  {
   "cell_type": "code",
   "execution_count": null,
   "id": "da127d2d",
   "metadata": {},
   "outputs": [],
   "source": []
  }
 ],
 "metadata": {
  "kernelspec": {
   "display_name": "Python 3",
   "language": "python",
   "name": "python3"
  },
  "language_info": {
   "codemirror_mode": {
    "name": "ipython",
    "version": 3
   },
   "file_extension": ".py",
   "mimetype": "text/x-python",
   "name": "python",
   "nbconvert_exporter": "python",
   "pygments_lexer": "ipython3",
   "version": "3.13.3"
  }
 },
 "nbformat": 4,
 "nbformat_minor": 5
}

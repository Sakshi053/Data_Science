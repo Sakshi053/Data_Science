{
 "cells": [
  {
   "cell_type": "code",
   "execution_count": 208,
   "id": "3fd53441",
   "metadata": {},
   "outputs": [],
   "source": [
    "import pandas as pd\n",
    "from sklearn.linear_model import LogisticRegression,Ridge,Lasso,ElasticNet\n",
    "from sklearn.model_selection import train_test_split\n",
    "from sklearn.preprocessing import OneHotEncoder,StandardScaler"
   ]
  },
  {
   "cell_type": "code",
   "execution_count": 209,
   "id": "3fd3459c",
   "metadata": {},
   "outputs": [
    {
     "data": {
      "text/html": [
       "<div>\n",
       "<style scoped>\n",
       "    .dataframe tbody tr th:only-of-type {\n",
       "        vertical-align: middle;\n",
       "    }\n",
       "\n",
       "    .dataframe tbody tr th {\n",
       "        vertical-align: top;\n",
       "    }\n",
       "\n",
       "    .dataframe thead th {\n",
       "        text-align: right;\n",
       "    }\n",
       "</style>\n",
       "<table border=\"1\" class=\"dataframe\">\n",
       "  <thead>\n",
       "    <tr style=\"text-align: right;\">\n",
       "      <th></th>\n",
       "      <th>Age</th>\n",
       "      <th>Salary</th>\n",
       "      <th>Credit_Score</th>\n",
       "      <th>Loan_Amount</th>\n",
       "      <th>Loan_Term</th>\n",
       "      <th>Employment_Status</th>\n",
       "      <th>Residence_Type</th>\n",
       "      <th>Previous_Default</th>\n",
       "      <th>Loan_Approved</th>\n",
       "    </tr>\n",
       "  </thead>\n",
       "  <tbody>\n",
       "    <tr>\n",
       "      <th>0</th>\n",
       "      <td>56</td>\n",
       "      <td>136748</td>\n",
       "      <td>584</td>\n",
       "      <td>38209</td>\n",
       "      <td>36 months</td>\n",
       "      <td>Employed</td>\n",
       "      <td>Owned</td>\n",
       "      <td>Yes</td>\n",
       "      <td>Yes</td>\n",
       "    </tr>\n",
       "    <tr>\n",
       "      <th>1</th>\n",
       "      <td>46</td>\n",
       "      <td>25287</td>\n",
       "      <td>815</td>\n",
       "      <td>27424</td>\n",
       "      <td>24 months</td>\n",
       "      <td>Self-Employed</td>\n",
       "      <td>Rented</td>\n",
       "      <td>No</td>\n",
       "      <td>Yes</td>\n",
       "    </tr>\n",
       "    <tr>\n",
       "      <th>2</th>\n",
       "      <td>32</td>\n",
       "      <td>146593</td>\n",
       "      <td>398</td>\n",
       "      <td>42396</td>\n",
       "      <td>12 months</td>\n",
       "      <td>Unemployed</td>\n",
       "      <td>Rented</td>\n",
       "      <td>Yes</td>\n",
       "      <td>Yes</td>\n",
       "    </tr>\n",
       "    <tr>\n",
       "      <th>3</th>\n",
       "      <td>60</td>\n",
       "      <td>54387</td>\n",
       "      <td>696</td>\n",
       "      <td>11370</td>\n",
       "      <td>24 months</td>\n",
       "      <td>Unemployed</td>\n",
       "      <td>Owned</td>\n",
       "      <td>No</td>\n",
       "      <td>No</td>\n",
       "    </tr>\n",
       "    <tr>\n",
       "      <th>4</th>\n",
       "      <td>25</td>\n",
       "      <td>28512</td>\n",
       "      <td>788</td>\n",
       "      <td>14528</td>\n",
       "      <td>12 months</td>\n",
       "      <td>Employed</td>\n",
       "      <td>Owned</td>\n",
       "      <td>No</td>\n",
       "      <td>No</td>\n",
       "    </tr>\n",
       "  </tbody>\n",
       "</table>\n",
       "</div>"
      ],
      "text/plain": [
       "   Age  Salary  Credit_Score  Loan_Amount  Loan_Term Employment_Status  \\\n",
       "0   56  136748           584        38209  36 months          Employed   \n",
       "1   46   25287           815        27424  24 months     Self-Employed   \n",
       "2   32  146593           398        42396  12 months        Unemployed   \n",
       "3   60   54387           696        11370  24 months        Unemployed   \n",
       "4   25   28512           788        14528  12 months          Employed   \n",
       "\n",
       "  Residence_Type Previous_Default Loan_Approved  \n",
       "0          Owned              Yes           Yes  \n",
       "1         Rented               No           Yes  \n",
       "2         Rented              Yes           Yes  \n",
       "3          Owned               No            No  \n",
       "4          Owned               No            No  "
      ]
     },
     "execution_count": 209,
     "metadata": {},
     "output_type": "execute_result"
    }
   ],
   "source": [
    "df = pd.read_csv(\"loan_approval_dataset.csv\")\n",
    "df.head()"
   ]
  },
  {
   "cell_type": "code",
   "execution_count": 210,
   "id": "b06215d5",
   "metadata": {},
   "outputs": [],
   "source": [
    "df['Loan_Term'] = df['Loan_Term'].str.removesuffix(' months').astype('int')"
   ]
  },
  {
   "cell_type": "code",
   "execution_count": 211,
   "id": "6c43a661",
   "metadata": {},
   "outputs": [],
   "source": [
    "X = df.drop('Loan_Approved',axis=1)\n",
    "y = df['Loan_Approved']"
   ]
  },
  {
   "cell_type": "code",
   "execution_count": 212,
   "id": "e35d1dc3",
   "metadata": {},
   "outputs": [],
   "source": [
    "cat_cols = X.select_dtypes(include=\"object\").columns                \n",
    "num_cols = X.select_dtypes(exclude=\"object\").columns   "
   ]
  },
  {
   "cell_type": "code",
   "execution_count": 213,
   "id": "33dc3ee1",
   "metadata": {},
   "outputs": [],
   "source": [
    "model = LogisticRegression(['l1'], solver='saga')"
   ]
  },
  {
   "cell_type": "code",
   "execution_count": 214,
   "id": "62f2ee69",
   "metadata": {},
   "outputs": [],
   "source": [
    "xtrain,xtest,ytrain,ytest = train_test_split(X,y,test_size=0.2,random_state=42)"
   ]
  },
  {
   "cell_type": "code",
   "execution_count": 215,
   "id": "d2bd93ec",
   "metadata": {},
   "outputs": [],
   "source": [
    "scaler = StandardScaler()\n",
    "encode = OneHotEncoder(sparse_output=False)"
   ]
  },
  {
   "cell_type": "code",
   "execution_count": 216,
   "id": "13082acb",
   "metadata": {},
   "outputs": [],
   "source": [
    "xtrain[num_cols] = scaler.fit_transform(xtrain[num_cols])\n",
    "catobj = encode.fit_transform(xtrain[cat_cols])\n",
    "xtrain[encode.get_feature_names_out()] = catobj\n",
    "xtrain.drop(cat_cols,axis=1,inplace=True)"
   ]
  },
  {
   "cell_type": "code",
   "execution_count": 217,
   "id": "5c06a3dd",
   "metadata": {},
   "outputs": [],
   "source": [
    "xtest[num_cols] = scaler.transform(xtest[num_cols])\n",
    "obdj = encode.transform(xtest[cat_cols])\n",
    "xtest[encode.get_feature_names_out()] = obdj\n",
    "xtest.drop(cat_cols,axis=1,inplace=True)"
   ]
  },
  {
   "cell_type": "code",
   "execution_count": 218,
   "id": "6fbf701e",
   "metadata": {},
   "outputs": [],
   "source": [
    "model = LogisticRegression(penalty='l1',solver='lbfgs')\n",
    "model2 = LogisticRegression(penalty='l1',solver='liblinear')\n",
    "model3 = LogisticRegression(penalty='l1',solver='saga')\n",
    "\n",
    "model4 = LogisticRegression(penalty='l2',solver='lbfgs')\n",
    "model5 = LogisticRegression(penalty='l2',solver='liblinear')\n",
    "model6 = LogisticRegression(penalty='l2',solver='saga')\n",
    "\n",
    "model7 = LogisticRegression(penalty='elasticnet',l1_ratio=0.0,solver='lbfgs')\n",
    "# model8 = LogisticRegression(penalty='elasticnet',l1_ratio=0.4,solver='liblinear')\n",
    "model9 = LogisticRegression(penalty='elasticnet',l1_ratio=0.8,solver='saga')"
   ]
  },
  {
   "cell_type": "code",
   "execution_count": 219,
   "id": "05dedda9",
   "metadata": {},
   "outputs": [],
   "source": [
    "# model.fit(xtrain,ytrain)"
   ]
  },
  {
   "cell_type": "code",
   "execution_count": 221,
   "id": "321bc58e",
   "metadata": {},
   "outputs": [
    {
     "ename": "ValueError",
     "evalue": "Solver lbfgs supports only 'l2' or None penalties, got elasticnet penalty.",
     "output_type": "error",
     "traceback": [
      "\u001b[31m---------------------------------------------------------------------------\u001b[39m",
      "\u001b[31mValueError\u001b[39m                                Traceback (most recent call last)",
      "\u001b[36mCell\u001b[39m\u001b[36m \u001b[39m\u001b[32mIn[221]\u001b[39m\u001b[32m, line 6\u001b[39m\n\u001b[32m      4\u001b[39m model5.fit(xtrain,ytrain)\n\u001b[32m      5\u001b[39m model6.fit(xtrain,ytrain)\n\u001b[32m----> \u001b[39m\u001b[32m6\u001b[39m \u001b[43mmodel7\u001b[49m\u001b[43m.\u001b[49m\u001b[43mfit\u001b[49m\u001b[43m(\u001b[49m\u001b[43mxtrain\u001b[49m\u001b[43m,\u001b[49m\u001b[43mytrain\u001b[49m\u001b[43m)\u001b[49m\n\u001b[32m      7\u001b[39m model9.fit(xtrain,ytrain)\n",
      "\u001b[36mFile \u001b[39m\u001b[32mc:\\Users\\Hp\\AppData\\Local\\Programs\\Python\\Python313\\Lib\\site-packages\\sklearn\\base.py:1365\u001b[39m, in \u001b[36m_fit_context.<locals>.decorator.<locals>.wrapper\u001b[39m\u001b[34m(estimator, *args, **kwargs)\u001b[39m\n\u001b[32m   1358\u001b[39m     estimator._validate_params()\n\u001b[32m   1360\u001b[39m \u001b[38;5;28;01mwith\u001b[39;00m config_context(\n\u001b[32m   1361\u001b[39m     skip_parameter_validation=(\n\u001b[32m   1362\u001b[39m         prefer_skip_nested_validation \u001b[38;5;129;01mor\u001b[39;00m global_skip_validation\n\u001b[32m   1363\u001b[39m     )\n\u001b[32m   1364\u001b[39m ):\n\u001b[32m-> \u001b[39m\u001b[32m1365\u001b[39m     \u001b[38;5;28;01mreturn\u001b[39;00m \u001b[43mfit_method\u001b[49m\u001b[43m(\u001b[49m\u001b[43mestimator\u001b[49m\u001b[43m,\u001b[49m\u001b[43m \u001b[49m\u001b[43m*\u001b[49m\u001b[43margs\u001b[49m\u001b[43m,\u001b[49m\u001b[43m \u001b[49m\u001b[43m*\u001b[49m\u001b[43m*\u001b[49m\u001b[43mkwargs\u001b[49m\u001b[43m)\u001b[49m\n",
      "\u001b[36mFile \u001b[39m\u001b[32mc:\\Users\\Hp\\AppData\\Local\\Programs\\Python\\Python313\\Lib\\site-packages\\sklearn\\linear_model\\_logistic.py:1218\u001b[39m, in \u001b[36mLogisticRegression.fit\u001b[39m\u001b[34m(self, X, y, sample_weight)\u001b[39m\n\u001b[32m   1188\u001b[39m \u001b[38;5;129m@_fit_context\u001b[39m(prefer_skip_nested_validation=\u001b[38;5;28;01mTrue\u001b[39;00m)\n\u001b[32m   1189\u001b[39m \u001b[38;5;28;01mdef\u001b[39;00m\u001b[38;5;250m \u001b[39m\u001b[34mfit\u001b[39m(\u001b[38;5;28mself\u001b[39m, X, y, sample_weight=\u001b[38;5;28;01mNone\u001b[39;00m):\n\u001b[32m   1190\u001b[39m \u001b[38;5;250m    \u001b[39m\u001b[33;03m\"\"\"\u001b[39;00m\n\u001b[32m   1191\u001b[39m \u001b[33;03m    Fit the model according to the given training data.\u001b[39;00m\n\u001b[32m   1192\u001b[39m \n\u001b[32m   (...)\u001b[39m\u001b[32m   1216\u001b[39m \u001b[33;03m    The SAGA solver supports both float64 and float32 bit arrays.\u001b[39;00m\n\u001b[32m   1217\u001b[39m \u001b[33;03m    \"\"\"\u001b[39;00m\n\u001b[32m-> \u001b[39m\u001b[32m1218\u001b[39m     solver = \u001b[43m_check_solver\u001b[49m\u001b[43m(\u001b[49m\u001b[38;5;28;43mself\u001b[39;49m\u001b[43m.\u001b[49m\u001b[43msolver\u001b[49m\u001b[43m,\u001b[49m\u001b[43m \u001b[49m\u001b[38;5;28;43mself\u001b[39;49m\u001b[43m.\u001b[49m\u001b[43mpenalty\u001b[49m\u001b[43m,\u001b[49m\u001b[43m \u001b[49m\u001b[38;5;28;43mself\u001b[39;49m\u001b[43m.\u001b[49m\u001b[43mdual\u001b[49m\u001b[43m)\u001b[49m\n\u001b[32m   1220\u001b[39m     \u001b[38;5;28;01mif\u001b[39;00m \u001b[38;5;28mself\u001b[39m.penalty != \u001b[33m\"\u001b[39m\u001b[33melasticnet\u001b[39m\u001b[33m\"\u001b[39m \u001b[38;5;129;01mand\u001b[39;00m \u001b[38;5;28mself\u001b[39m.l1_ratio \u001b[38;5;129;01mis\u001b[39;00m \u001b[38;5;129;01mnot\u001b[39;00m \u001b[38;5;28;01mNone\u001b[39;00m:\n\u001b[32m   1221\u001b[39m         warnings.warn(\n\u001b[32m   1222\u001b[39m             \u001b[33m\"\u001b[39m\u001b[33ml1_ratio parameter is only used when penalty is \u001b[39m\u001b[33m\"\u001b[39m\n\u001b[32m   1223\u001b[39m             \u001b[33m\"\u001b[39m\u001b[33m'\u001b[39m\u001b[33melasticnet\u001b[39m\u001b[33m'\u001b[39m\u001b[33m. Got \u001b[39m\u001b[33m\"\u001b[39m\n\u001b[32m   1224\u001b[39m             \u001b[33m\"\u001b[39m\u001b[33m(penalty=\u001b[39m\u001b[38;5;132;01m{}\u001b[39;00m\u001b[33m)\u001b[39m\u001b[33m\"\u001b[39m.format(\u001b[38;5;28mself\u001b[39m.penalty)\n\u001b[32m   1225\u001b[39m         )\n",
      "\u001b[36mFile \u001b[39m\u001b[32mc:\\Users\\Hp\\AppData\\Local\\Programs\\Python\\Python313\\Lib\\site-packages\\sklearn\\linear_model\\_logistic.py:64\u001b[39m, in \u001b[36m_check_solver\u001b[39m\u001b[34m(solver, penalty, dual)\u001b[39m\n\u001b[32m     62\u001b[39m \u001b[38;5;28;01mdef\u001b[39;00m\u001b[38;5;250m \u001b[39m\u001b[34m_check_solver\u001b[39m(solver, penalty, dual):\n\u001b[32m     63\u001b[39m     \u001b[38;5;28;01mif\u001b[39;00m solver \u001b[38;5;129;01mnot\u001b[39;00m \u001b[38;5;129;01min\u001b[39;00m [\u001b[33m\"\u001b[39m\u001b[33mliblinear\u001b[39m\u001b[33m\"\u001b[39m, \u001b[33m\"\u001b[39m\u001b[33msaga\u001b[39m\u001b[33m\"\u001b[39m] \u001b[38;5;129;01mand\u001b[39;00m penalty \u001b[38;5;129;01mnot\u001b[39;00m \u001b[38;5;129;01min\u001b[39;00m (\u001b[33m\"\u001b[39m\u001b[33ml2\u001b[39m\u001b[33m\"\u001b[39m, \u001b[38;5;28;01mNone\u001b[39;00m):\n\u001b[32m---> \u001b[39m\u001b[32m64\u001b[39m         \u001b[38;5;28;01mraise\u001b[39;00m \u001b[38;5;167;01mValueError\u001b[39;00m(\n\u001b[32m     65\u001b[39m             \u001b[33mf\u001b[39m\u001b[33m\"\u001b[39m\u001b[33mSolver \u001b[39m\u001b[38;5;132;01m{\u001b[39;00msolver\u001b[38;5;132;01m}\u001b[39;00m\u001b[33m supports only \u001b[39m\u001b[33m'\u001b[39m\u001b[33ml2\u001b[39m\u001b[33m'\u001b[39m\u001b[33m or None penalties, got \u001b[39m\u001b[38;5;132;01m{\u001b[39;00mpenalty\u001b[38;5;132;01m}\u001b[39;00m\u001b[33m \u001b[39m\u001b[33m\"\u001b[39m\n\u001b[32m     66\u001b[39m             \u001b[33m\"\u001b[39m\u001b[33mpenalty.\u001b[39m\u001b[33m\"\u001b[39m\n\u001b[32m     67\u001b[39m         )\n\u001b[32m     68\u001b[39m     \u001b[38;5;28;01mif\u001b[39;00m solver != \u001b[33m\"\u001b[39m\u001b[33mliblinear\u001b[39m\u001b[33m\"\u001b[39m \u001b[38;5;129;01mand\u001b[39;00m dual:\n\u001b[32m     69\u001b[39m         \u001b[38;5;28;01mraise\u001b[39;00m \u001b[38;5;167;01mValueError\u001b[39;00m(\u001b[33mf\u001b[39m\u001b[33m\"\u001b[39m\u001b[33mSolver \u001b[39m\u001b[38;5;132;01m{\u001b[39;00msolver\u001b[38;5;132;01m}\u001b[39;00m\u001b[33m supports only dual=False, got dual=\u001b[39m\u001b[38;5;132;01m{\u001b[39;00mdual\u001b[38;5;132;01m}\u001b[39;00m\u001b[33m\"\u001b[39m)\n",
      "\u001b[31mValueError\u001b[39m: Solver lbfgs supports only 'l2' or None penalties, got elasticnet penalty."
     ]
    }
   ],
   "source": [
    "model2.fit(xtrain,ytrain)\n",
    "model3.fit(xtrain,ytrain)\n",
    "model4.fit(xtrain,ytrain)\n",
    "model5.fit(xtrain,ytrain)\n",
    "model6.fit(xtrain,ytrain)\n",
    "model7.fit(xtrain,ytrain)\n",
    "model9.fit(xtrain,ytrain)"
   ]
  },
  {
   "cell_type": "code",
   "execution_count": null,
   "id": "00e48c8a",
   "metadata": {},
   "outputs": [],
   "source": [
    "# model.score(xtest,ytest)"
   ]
  },
  {
   "cell_type": "markdown",
   "id": "a4713c1c",
   "metadata": {},
   "source": [
    "- lbfgs works only for 'l2'"
   ]
  },
  {
   "cell_type": "code",
   "execution_count": null,
   "id": "60276b36",
   "metadata": {},
   "outputs": [],
   "source": [
    "model2.score(xtrain,ytrain)"
   ]
  },
  {
   "cell_type": "code",
   "execution_count": null,
   "id": "8a111a15",
   "metadata": {},
   "outputs": [],
   "source": [
    "model2.score(xtest,ytest)"
   ]
  },
  {
   "cell_type": "code",
   "execution_count": null,
   "id": "03250c53",
   "metadata": {},
   "outputs": [],
   "source": [
    "model3.score(xtrain,ytrain)"
   ]
  },
  {
   "cell_type": "code",
   "execution_count": null,
   "id": "fd796b60",
   "metadata": {},
   "outputs": [],
   "source": [
    "model3.score(xtest,ytest)"
   ]
  },
  {
   "cell_type": "code",
   "execution_count": null,
   "id": "2a9315e1",
   "metadata": {},
   "outputs": [],
   "source": [
    "model4.score(xtrain,ytrain)"
   ]
  },
  {
   "cell_type": "code",
   "execution_count": null,
   "id": "9ff4c058",
   "metadata": {},
   "outputs": [],
   "source": [
    "model4.score(xtest,ytest)"
   ]
  },
  {
   "cell_type": "code",
   "execution_count": null,
   "id": "0a8c65dc",
   "metadata": {},
   "outputs": [],
   "source": [
    "model5.score(xtrain,ytrain)"
   ]
  },
  {
   "cell_type": "code",
   "execution_count": null,
   "id": "f8df0391",
   "metadata": {},
   "outputs": [],
   "source": [
    "model5.score(xtest,ytest)"
   ]
  },
  {
   "cell_type": "code",
   "execution_count": null,
   "id": "a7168492",
   "metadata": {},
   "outputs": [],
   "source": [
    "model6.score(xtrain,ytrain)"
   ]
  },
  {
   "cell_type": "code",
   "execution_count": null,
   "id": "a56b3c9f",
   "metadata": {},
   "outputs": [],
   "source": [
    "model6.score(xtest,ytest)"
   ]
  },
  {
   "cell_type": "code",
   "execution_count": null,
   "id": "361022bc",
   "metadata": {},
   "outputs": [],
   "source": [
    "model7.score(xtrain,ytrain)"
   ]
  },
  {
   "cell_type": "code",
   "execution_count": null,
   "id": "67b18f11",
   "metadata": {},
   "outputs": [],
   "source": [
    "model8.score(xtrain,ytrain)"
   ]
  },
  {
   "cell_type": "code",
   "execution_count": null,
   "id": "1cae6b94",
   "metadata": {},
   "outputs": [],
   "source": []
  }
 ],
 "metadata": {
  "kernelspec": {
   "display_name": "Python 3",
   "language": "python",
   "name": "python3"
  },
  "language_info": {
   "codemirror_mode": {
    "name": "ipython",
    "version": 3
   },
   "file_extension": ".py",
   "mimetype": "text/x-python",
   "name": "python",
   "nbconvert_exporter": "python",
   "pygments_lexer": "ipython3",
   "version": "3.13.3"
  }
 },
 "nbformat": 4,
 "nbformat_minor": 5
}
